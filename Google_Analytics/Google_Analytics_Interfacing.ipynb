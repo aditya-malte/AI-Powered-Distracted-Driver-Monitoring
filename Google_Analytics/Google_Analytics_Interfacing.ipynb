{
  "nbformat": 4,
  "nbformat_minor": 0,
  "metadata": {
    "colab": {
      "name": "Google_Analytics_Interfacing.ipynb",
      "version": "0.3.2",
      "provenance": [],
      "collapsed_sections": [],
      "toc_visible": true,
      "include_colab_link": true
    },
    "kernelspec": {
      "name": "python3",
      "display_name": "Python 3"
    }
  },
  "cells": [
    {
      "cell_type": "markdown",
      "metadata": {
        "id": "view-in-github",
        "colab_type": "text"
      },
      "source": [
        "<a href=\"https://colab.research.google.com/github/aditya-malte/AI-Powered-Distracted-Driver-Monitoring/blob/master/Google_Analytics/Google_Analytics_Interfacing.ipynb\" target=\"_parent\"><img src=\"https://colab.research.google.com/assets/colab-badge.svg\" alt=\"Open In Colab\"/></a>"
      ]
    },
    {
      "cell_type": "markdown",
      "metadata": {
        "id": "yGv1h4SxmCW_",
        "colab_type": "text"
      },
      "source": [
        "#Interfacing Google Analytics with Python"
      ]
    },
    {
      "cell_type": "markdown",
      "metadata": {
        "id": "Ceu_4qpHl_Fe",
        "colab_type": "text"
      },
      "source": [
        "##Install Dependencies"
      ]
    },
    {
      "cell_type": "code",
      "metadata": {
        "id": "QD8MPegNltXz",
        "colab_type": "code",
        "colab": {
          "base_uri": "https://localhost:8080/",
          "height": 217
        },
        "outputId": "0d4c9c7c-7b14-4159-e4cb-fbe4f6705f1d"
      },
      "source": [
        "!sudo pip install --upgrade google-api-python-client"
      ],
      "execution_count": 1,
      "outputs": [
        {
          "output_type": "stream",
          "text": [
            "Requirement already up-to-date: google-api-python-client in /usr/local/lib/python3.6/dist-packages (1.7.9)\n",
            "Requirement already satisfied, skipping upgrade: uritemplate<4dev,>=3.0.0 in /usr/local/lib/python3.6/dist-packages (from google-api-python-client) (3.0.0)\n",
            "Requirement already satisfied, skipping upgrade: google-auth-httplib2>=0.0.3 in /usr/local/lib/python3.6/dist-packages (from google-api-python-client) (0.0.3)\n",
            "Requirement already satisfied, skipping upgrade: google-auth>=1.4.1 in /usr/local/lib/python3.6/dist-packages (from google-api-python-client) (1.4.2)\n",
            "Requirement already satisfied, skipping upgrade: six<2dev,>=1.6.1 in /usr/local/lib/python3.6/dist-packages (from google-api-python-client) (1.12.0)\n",
            "Requirement already satisfied, skipping upgrade: httplib2<1dev,>=0.9.2 in /usr/local/lib/python3.6/dist-packages (from google-api-python-client) (0.11.3)\n",
            "Requirement already satisfied, skipping upgrade: cachetools>=2.0.0 in /usr/local/lib/python3.6/dist-packages (from google-auth>=1.4.1->google-api-python-client) (3.1.1)\n",
            "Requirement already satisfied, skipping upgrade: pyasn1-modules>=0.2.1 in /usr/local/lib/python3.6/dist-packages (from google-auth>=1.4.1->google-api-python-client) (0.2.5)\n",
            "Requirement already satisfied, skipping upgrade: rsa>=3.1.4 in /usr/local/lib/python3.6/dist-packages (from google-auth>=1.4.1->google-api-python-client) (4.0)\n",
            "Requirement already satisfied, skipping upgrade: pyasn1<0.5.0,>=0.4.1 in /usr/local/lib/python3.6/dist-packages (from pyasn1-modules>=0.2.1->google-auth>=1.4.1->google-api-python-client) (0.4.5)\n"
          ],
          "name": "stdout"
        }
      ]
    },
    {
      "cell_type": "code",
      "metadata": {
        "id": "K6BopJ5ql-E_",
        "colab_type": "code",
        "colab": {
          "base_uri": "https://localhost:8080/",
          "height": 369
        },
        "outputId": "f1788340-7845-4ed7-8000-cac1dfd18fda"
      },
      "source": [
        "\"\"\"A simple example of how to access the Google Analytics API.\"\"\"\n",
        "\n",
        "import argparse\n",
        "\n",
        "from apiclient.discovery import build\n",
        "import httplib2\n",
        "from oauth2client import client\n",
        "from oauth2client import file\n",
        "from oauth2client import tools\n",
        "\n",
        "\n",
        "def get_service(api_name, api_version, scope, client_secrets_path):\n",
        "  \"\"\"Get a service that communicates to a Google API.\n",
        "\n",
        "  Args:\n",
        "    api_name: string The name of the api to connect to.\n",
        "    api_version: string The api version to connect to.\n",
        "    scope: A list of strings representing the auth scopes to authorize for the\n",
        "      connection.\n",
        "    client_secrets_path: string A path to a valid client secrets file.\n",
        "\n",
        "  Returns:\n",
        "    A service that is connected to the specified API.\n",
        "  \"\"\"\n",
        "  # Parse command-line arguments.\n",
        "  parser = argparse.ArgumentParser(\n",
        "      formatter_class=argparse.RawDescriptionHelpFormatter,\n",
        "      parents=[tools.argparser])\n",
        "  flags = parser.parse_args([])\n",
        "\n",
        "  # Set up a Flow object to be used if we need to authenticate.\n",
        "  flow = client.flow_from_clientsecrets(\n",
        "      client_secrets_path, scope=scope,\n",
        "      message=tools.message_if_missing(client_secrets_path))\n",
        "\n",
        "  # Prepare credentials, and authorize HTTP object with them.\n",
        "  # If the credentials don't exist or are invalid run through the native client\n",
        "  # flow. The Storage object will ensure that if successful the good\n",
        "  # credentials will get written back to a file.\n",
        "  storage = file.Storage(api_name + '.dat')\n",
        "  credentials = storage.get()\n",
        "  if credentials is None or credentials.invalid:\n",
        "    credentials = tools.run_flow(flow, storage, flags)\n",
        "  http = credentials.authorize(http=httplib2.Http())\n",
        "\n",
        "  # Build the service object.\n",
        "  service = build(api_name, api_version, http=http)\n",
        "\n",
        "  return service\n",
        "\n",
        "\n",
        "def get_first_profile_id(service):\n",
        "  # Use the Analytics service object to get the first profile id.\n",
        "\n",
        "  # Get a list of all Google Analytics accounts for the authorized user.\n",
        "  accounts = service.management().accounts().list().execute()\n",
        "\n",
        "  if accounts.get('items'):\n",
        "    # Get the first Google Analytics account.\n",
        "    account = accounts.get('items')[0].get('id')\n",
        "\n",
        "    # Get a list of all the properties for the first account.\n",
        "    properties = service.management().webproperties().list(\n",
        "        accountId=account).execute()\n",
        "\n",
        "    if properties.get('items'):\n",
        "      # Get the first property id.\n",
        "      property = properties.get('items')[0].get('id')\n",
        "\n",
        "      # Get a list of all views (profiles) for the first property.\n",
        "      profiles = service.management().profiles().list(\n",
        "          accountId=account,\n",
        "          webPropertyId=property).execute()\n",
        "\n",
        "      if profiles.get('items'):\n",
        "        # return the first view (profile) id.\n",
        "        return profiles.get('items')[0].get('id')\n",
        "\n",
        "  return None\n",
        "\n",
        "\n",
        "def get_results(service, profile_id):\n",
        "  # Use the Analytics Service Object to query the Core Reporting API\n",
        "  # for the number of sessions in the past seven days.\n",
        "  return service.data().ga().get(\n",
        "      ids='ga:' + profile_id,\n",
        "      start_date='7daysAgo',\n",
        "      end_date='today',\n",
        "      metrics='ga:sessions').execute()\n",
        "\n",
        "\n",
        "def print_results(results):\n",
        "  # Print data nicely for the user.\n",
        "  if results:\n",
        "    print ('View (Profile): %s' % results.get('profileInfo').get('profileName'))\n",
        "    print ('Total Sessions: %s' % results.get('rows')[0][0])\n",
        "\n",
        "  else:\n",
        "    print ('No results found')\n",
        "\n",
        "\n",
        "# Define the auth scopes to request.\n",
        "scope = ['https://www.googleapis.com/auth/analytics.readonly']\n",
        "\n",
        "# Authenticate and construct service.\n",
        "service = get_service('analytics', 'v3', scope, 'DassaultProject-b21c8a13767a.json')\n",
        "profile = get_first_profile_id(service)\n",
        "print_results(get_results(service, profile))\n",
        "\n"
      ],
      "execution_count": 7,
      "outputs": [
        {
          "output_type": "error",
          "ename": "SystemExit",
          "evalue": "ignored",
          "traceback": [
            "An exception has occurred, use %tb to see the full traceback.\n",
            "\u001b[0;31mSystemExit\u001b[0m\u001b[0;31m:\u001b[0m The client secrets were invalid: \nInvalid file format. See https://developers.google.com/api-client-library/python/guide/aaa_client_secrets Expected a JSON object with a single property for a \"web\" or \"installed\" application\nWARNING: Please configure OAuth 2.0\n\nTo make this sample run you will need to populate the client_secrets.json file\nfound at:\n\n   DassaultProject-b21c8a13767a.json\n\nwith information from the APIs Console <https://code.google.com/apis/console>.\n\n\n"
          ]
        },
        {
          "output_type": "stream",
          "text": [
            "/usr/local/lib/python3.6/dist-packages/IPython/core/interactiveshell.py:2890: UserWarning: To exit: use 'exit', 'quit', or Ctrl-D.\n",
            "  warn(\"To exit: use 'exit', 'quit', or Ctrl-D.\", stacklevel=1)\n"
          ],
          "name": "stderr"
        }
      ]
    }
  ]
}